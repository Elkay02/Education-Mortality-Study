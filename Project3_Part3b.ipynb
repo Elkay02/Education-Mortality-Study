{
 "cells": [
  {
   "cell_type": "markdown",
   "id": "6c0125b7",
   "metadata": {},
   "source": [
    "# Project 3 Part B. Linear Regression analysis\n",
    "\n",
    "In this part of the project, you need to individually (not in pairs):\n",
    "* obtain data which is appropriate for a Linear Regression analysis, and\n",
    "* build your own Jupyter notebook undertaking that analysis (using the sort of code seen in class) and describing your conclusions (using appropriate markdown syntax).\n",
    "\n",
    "Your submission should include the Jupyter notebook, as well as the data, so that the notebook can be effectively compiled by the grader. Below is a suggestion for the structure of your submission."
   ]
  },
  {
   "cell_type": "code",
   "execution_count": 1,
   "id": "ad1d6b5a",
   "metadata": {},
   "outputs": [],
   "source": [
    "# Run this cell to set up the notebook, but please don't change it.\n",
    "import numpy as np\n",
    "import math\n",
    "import random\n",
    "import scipy.stats as st\n",
    "from datascience import *\n",
    "\n",
    "# These lines set up the plotting functionality and formatting.\n",
    "import matplotlib\n",
    "matplotlib.use('Agg')\n",
    "%matplotlib inline\n",
    "import matplotlib.pyplot as plots\n",
    "plots.style.use('fivethirtyeight')\n",
    "import warnings\n",
    "warnings.simplefilter(action=\"ignore\", category=FutureWarning)"
   ]
  },
  {
   "cell_type": "markdown",
   "id": "e7a333c4",
   "metadata": {},
   "source": [
    "## 1. The data \n",
    "\n",
    "You will need to find some data which is appropriate or a Linear Regression analysis.\n",
    "\n",
    "The first section of your notebook should introduce the data: where does it come from, who are the cases, what are the variables (units?), how was the data obtained, etc. You should also indicate what you know about the sampling procedure, what population it is meant to be representing, and any evidence you have for it being a good sample.\n",
    "\n",
    "Your data should be appropriately cited so that the grader can retrieve the original data if they try to do so."
   ]
  },
  {
   "cell_type": "code",
   "execution_count": 2,
   "id": "aaac7cf0",
   "metadata": {},
   "outputs": [
    {
     "data": {
      "text/html": [
       "<table border=\"1\" class=\"dataframe\">\n",
       "    <thead>\n",
       "        <tr>\n",
       "            <th>Mortality</th> <th>Education</th>\n",
       "        </tr>\n",
       "    </thead>\n",
       "    <tbody>\n",
       "        <tr>\n",
       "            <td>921.87   </td> <td>11.4     </td>\n",
       "        </tr>\n",
       "        <tr>\n",
       "            <td>997.87   </td> <td>11       </td>\n",
       "        </tr>\n",
       "        <tr>\n",
       "            <td>962.35   </td> <td>9.8      </td>\n",
       "        </tr>\n",
       "        <tr>\n",
       "            <td>982.29   </td> <td>11.1     </td>\n",
       "        </tr>\n",
       "        <tr>\n",
       "            <td>1071.29  </td> <td>9.6      </td>\n",
       "        </tr>\n",
       "        <tr>\n",
       "            <td>1030.38  </td> <td>10.2     </td>\n",
       "        </tr>\n",
       "        <tr>\n",
       "            <td>934.7    </td> <td>12.1     </td>\n",
       "        </tr>\n",
       "        <tr>\n",
       "            <td>899.53   </td> <td>10.6     </td>\n",
       "        </tr>\n",
       "        <tr>\n",
       "            <td>1001.9   </td> <td>10.5     </td>\n",
       "        </tr>\n",
       "        <tr>\n",
       "            <td>912.35   </td> <td>10.7     </td>\n",
       "        </tr>\n",
       "    </tbody>\n",
       "</table>\n",
       "<p>... (48 rows omitted)</p>"
      ],
      "text/plain": [
       "Mortality | Education\n",
       "921.87    | 11.4\n",
       "997.87    | 11\n",
       "962.35    | 9.8\n",
       "982.29    | 11.1\n",
       "1071.29   | 9.6\n",
       "1030.38   | 10.2\n",
       "934.7     | 12.1\n",
       "899.53    | 10.6\n",
       "1001.9    | 10.5\n",
       "912.35    | 10.7\n",
       "... (48 rows omitted)"
      ]
     },
     "execution_count": 2,
     "metadata": {},
     "output_type": "execute_result"
    }
   ],
   "source": [
    "table = Table.read_table('education-and-mortality.csv')\n",
    "table"
   ]
  },
  {
   "cell_type": "markdown",
   "id": "f9a8d71d",
   "metadata": {},
   "source": [
    "## 2. The scatterplot\n",
    "\n",
    "The second part of the notebook shows the scatterplot of the data and describes its essential features, such as shape, strength and direction. (Note that as the data should be appropriate for a linear regression analysis, it better be linear.) Be sure to provide a sentence interpreting in simple language the relationship between the variables."
   ]
  },
  {
   "cell_type": "code",
   "execution_count": 25,
   "id": "dba12067",
   "metadata": {},
   "outputs": [
    {
     "data": {
      "image/png": "[encoded data removed]",
      "text/plain": [
       "<Figure size 360x360 with 1 Axes>"
      ]
     },
     "metadata": {},
     "output_type": "display_data"
    }
   ],
   "source": [
    "table.scatter('Education')"
   ]
  },
  {
   "cell_type": "markdown",
   "id": "75314e29",
   "metadata": {},
   "source": [
    "we can see that there is a linear relationship between the two variables, \"Education\", and \"Mortality\", because the data points appear in a declining slope"
   ]
  },
  {
   "cell_type": "markdown",
   "id": "90129305",
   "metadata": {},
   "source": [
    "## 3. The linear regression model\n",
    "\n",
    "The next part of the notebook describes the linear regression model. Show the line of best fit, and find and interpret:\n",
    "* the slope and the $y$-intercept, (don't forget units, in each case) and\n",
    "* the $R^2$- value of the model.\n",
    "\n",
    "Write down the equation of the linear regression model, giving an appropriate domain for the model, and make a prediction example to correctly show its use."
   ]
  },
  {
   "cell_type": "code",
   "execution_count": 26,
   "id": "c66038f0",
   "metadata": {},
   "outputs": [],
   "source": [
    "# Measuring in Standard Units\n",
    "def standard_units(x):\n",
    "    \"Convert any array of numbers to standard units.\"\n",
    "    return (x - np.mean(x))/np.std(x)"
   ]
  },
  {
   "cell_type": "code",
   "execution_count": 27,
   "id": "11ad3390",
   "metadata": {},
   "outputs": [
    {
     "data": {
      "text/html": [
       "<table border=\"1\" class=\"dataframe\">\n",
       "    <thead>\n",
       "        <tr>\n",
       "            <th>Mortality SU</th> <th>Education SU</th>\n",
       "        </tr>\n",
       "    </thead>\n",
       "    <tbody>\n",
       "        <tr>\n",
       "            <td>-0.336481   </td> <td>0.466866    </td>\n",
       "        </tr>\n",
       "        <tr>\n",
       "            <td>0.903049    </td> <td>-0.0416453  </td>\n",
       "        </tr>\n",
       "        <tr>\n",
       "            <td>0.323732    </td> <td>-1.56718    </td>\n",
       "        </tr>\n",
       "        <tr>\n",
       "            <td>0.648945    </td> <td>0.0854825   </td>\n",
       "        </tr>\n",
       "        <tr>\n",
       "            <td>2.1005      </td> <td>-1.82144    </td>\n",
       "        </tr>\n",
       "        <tr>\n",
       "            <td>1.43327     </td> <td>-1.05867    </td>\n",
       "        </tr>\n",
       "        <tr>\n",
       "            <td>-0.127229   </td> <td>1.35676     </td>\n",
       "        </tr>\n",
       "        <tr>\n",
       "            <td>-0.700838   </td> <td>-0.550157   </td>\n",
       "        </tr>\n",
       "        <tr>\n",
       "            <td>0.968777    </td> <td>-0.677285   </td>\n",
       "        </tr>\n",
       "        <tr>\n",
       "            <td>-0.491749   </td> <td>-0.423029   </td>\n",
       "        </tr>\n",
       "    </tbody>\n",
       "</table>\n",
       "<p>... (48 rows omitted)</p>"
      ],
      "text/plain": [
       "Mortality SU | Education SU\n",
       "-0.336481    | 0.466866\n",
       "0.903049     | -0.0416453\n",
       "0.323732     | -1.56718\n",
       "0.648945     | 0.0854825\n",
       "2.1005       | -1.82144\n",
       "1.43327      | -1.05867\n",
       "-0.127229    | 1.35676\n",
       "-0.700838    | -0.550157\n",
       "0.968777     | -0.677285\n",
       "-0.491749    | -0.423029\n",
       "... (48 rows omitted)"
      ]
     },
     "execution_count": 27,
     "metadata": {},
     "output_type": "execute_result"
    }
   ],
   "source": [
    "std_unit_table = Table().with_columns(\n",
    "    \"Mortality SU\", standard_units(table.column(\"Mortality\")),\n",
    "    \"Education SU\", standard_units(table.column(\"Education\"))\n",
    ")\n",
    "std_unit_table"
   ]
  },
  {
   "cell_type": "code",
   "execution_count": 28,
   "id": "ed043f09",
   "metadata": {},
   "outputs": [
    {
     "data": {
      "text/html": [
       "<table border=\"1\" class=\"dataframe\">\n",
       "    <thead>\n",
       "        <tr>\n",
       "            <th>Mortality SU</th> <th>Education SU</th> <th>Product of SU</th>\n",
       "        </tr>\n",
       "    </thead>\n",
       "    <tbody>\n",
       "        <tr>\n",
       "            <td>-0.336481   </td> <td>0.466866    </td> <td>-0.157092    </td>\n",
       "        </tr>\n",
       "        <tr>\n",
       "            <td>0.903049    </td> <td>-0.0416453  </td> <td>-0.0376078   </td>\n",
       "        </tr>\n",
       "        <tr>\n",
       "            <td>0.323732    </td> <td>-1.56718    </td> <td>-0.507346    </td>\n",
       "        </tr>\n",
       "        <tr>\n",
       "            <td>0.648945    </td> <td>0.0854825   </td> <td>0.0554735    </td>\n",
       "        </tr>\n",
       "        <tr>\n",
       "            <td>2.1005      </td> <td>-1.82144    </td> <td>-3.82593     </td>\n",
       "        </tr>\n",
       "        <tr>\n",
       "            <td>1.43327     </td> <td>-1.05867    </td> <td>-1.51736     </td>\n",
       "        </tr>\n",
       "        <tr>\n",
       "            <td>-0.127229   </td> <td>1.35676     </td> <td>-0.172619    </td>\n",
       "        </tr>\n",
       "        <tr>\n",
       "            <td>-0.700838   </td> <td>-0.550157   </td> <td>0.385571     </td>\n",
       "        </tr>\n",
       "        <tr>\n",
       "            <td>0.968777    </td> <td>-0.677285   </td> <td>-0.656138    </td>\n",
       "        </tr>\n",
       "        <tr>\n",
       "            <td>-0.491749   </td> <td>-0.423029   </td> <td>0.208024     </td>\n",
       "        </tr>\n",
       "    </tbody>\n",
       "</table>\n",
       "<p>... (48 rows omitted)</p>"
      ],
      "text/plain": [
       "Mortality SU | Education SU | Product of SU\n",
       "-0.336481    | 0.466866     | -0.157092\n",
       "0.903049     | -0.0416453   | -0.0376078\n",
       "0.323732     | -1.56718     | -0.507346\n",
       "0.648945     | 0.0854825    | 0.0554735\n",
       "2.1005       | -1.82144     | -3.82593\n",
       "1.43327      | -1.05867     | -1.51736\n",
       "-0.127229    | 1.35676      | -0.172619\n",
       "-0.700838    | -0.550157    | 0.385571\n",
       "0.968777     | -0.677285    | -0.656138\n",
       "-0.491749    | -0.423029    | 0.208024\n",
       "... (48 rows omitted)"
      ]
     },
     "execution_count": 28,
     "metadata": {},
     "output_type": "execute_result"
    }
   ],
   "source": [
    "tbl_product = std_unit_table.with_column('Product of SU', std_unit_table.column('Mortality SU') * std_unit_table.column('Education SU'))\n",
    "tbl_product"
   ]
  },
  {
   "cell_type": "code",
   "execution_count": 29,
   "id": "5f7d414c",
   "metadata": {},
   "outputs": [
    {
     "data": {
      "text/plain": [
       "-0.6404407050277293"
      ]
     },
     "execution_count": 29,
     "metadata": {},
     "output_type": "execute_result"
    }
   ],
   "source": [
    "r = np.mean(tbl_product.column('Product of SU'))\n",
    "r"
   ]
  },
  {
   "cell_type": "code",
   "execution_count": 30,
   "id": "674cdc95",
   "metadata": {},
   "outputs": [
    {
     "data": {
      "text/plain": [
       "-0.6404407050277293"
      ]
     },
     "execution_count": 30,
     "metadata": {},
     "output_type": "execute_result"
    }
   ],
   "source": [
    "def correlation(t, x, y):\n",
    "    return np.mean(standard_units(t.column(x))*standard_units(t.column(y)))\n",
    "correlation(table, \"Education\", \"Mortality\")"
   ]
  },
  {
   "cell_type": "markdown",
   "id": "cc80fa4c",
   "metadata": {},
   "source": [
    "the correlation of 0.75 (which is quite close to 1) shows that there is a strong relation between the mortality rate and the education rate"
   ]
  },
  {
   "cell_type": "code",
   "execution_count": 31,
   "id": "ada6766d",
   "metadata": {},
   "outputs": [
    {
     "data": {
      "text/plain": [
       "-49.92018746186626"
      ]
     },
     "execution_count": 31,
     "metadata": {},
     "output_type": "execute_result"
    }
   ],
   "source": [
    "def slope(t, x, y):\n",
    "    r = correlation(t, x, y)\n",
    "    return r*np.std(t.column(y))/np.std(t.column(x))\n",
    "slope(table, \"Education\", \"Mortality\")"
   ]
  },
  {
   "cell_type": "code",
   "execution_count": 32,
   "id": "d3c4f62a",
   "metadata": {},
   "outputs": [
    {
     "data": {
      "text/plain": [
       "1493.2582406353145"
      ]
     },
     "execution_count": 32,
     "metadata": {},
     "output_type": "execute_result"
    }
   ],
   "source": [
    "def intercept(t, x, y):\n",
    "    return np.mean(t.column(y)) - slope(t, x, y)*np.mean(t.column(x))\n",
    "intercept(table, \"Education\", \"Mortality\")"
   ]
  },
  {
   "cell_type": "markdown",
   "id": "46443807",
   "metadata": {},
   "source": [
    "The equation of the line of best fit is: y = mx + b\n",
    "mortality = 0.00958*education - 300.29"
   ]
  },
  {
   "cell_type": "code",
   "execution_count": 33,
   "id": "fb9e1272",
   "metadata": {},
   "outputs": [
    {
     "data": {
      "text/plain": [
       "0.410164296656415"
      ]
     },
     "execution_count": 33,
     "metadata": {},
     "output_type": "execute_result"
    }
   ],
   "source": [
    "r**2"
   ]
  },
  {
   "cell_type": "markdown",
   "id": "75a90eb3",
   "metadata": {},
   "source": [
    "## 4. Conditions for linear regression\n",
    "\n",
    "Check that the conditions that ensure the assumptions behind the linear regression model are met. Show the steps that you made."
   ]
  },
  {
   "cell_type": "markdown",
   "id": "023a78bd",
   "metadata": {},
   "source": [
    "There are four assumptions associated with a linear regression model: Linearity, Homoscedasticity, Independence, Normality.\n",
    "\n",
    "Linearity: The relationship between Education and the mean of Mortality is linear.\n",
    "Homoscedasticity: The variance of residual is the same for any value of Education.\n",
    "Independence: Observations are independent of each other.\n",
    "Normality: For any fixed value of Education, Mortality is normally distributed"
   ]
  },
  {
   "cell_type": "code",
   "execution_count": 34,
   "id": "4a1b278d",
   "metadata": {},
   "outputs": [],
   "source": [
    "def fit(table, x, y):\n",
    "    \"\"\"Return the height of the regression line at each x value.\"\"\"\n",
    "    a = slope(table, x, y)\n",
    "    b = intercept(table, x, y)\n",
    "    return a * table.column(x) + b\n",
    "\n",
    "def residual(table, x, y):\n",
    "    return table.column(y) - fit(table, x, y)\n",
    "\n",
    "def scatter_fit(table, x, y):\n",
    "    table.scatter(x, y, s=15)\n",
    "    plots.plot(table.column(x), fit(table, x, y), lw=4, color='gold')\n",
    "    plots.xlabel(x)\n",
    "    plots.ylabel(y)\n",
    "\n",
    "def residual_plot(table, x, y):\n",
    "    x_array = table.column(x)\n",
    "    t = Table().with_columns(\n",
    "            x, x_array,\n",
    "            'Residuals', residual(table, x, y)\n",
    "        )\n",
    "    t.scatter(x, 'Residuals', color='r')\n",
    "    xlims = make_array(min(x_array), max(x_array))\n",
    "    plots.plot(xlims, make_array(0, 0), color='darkblue', lw=4)\n",
    "    plots.title('Residual Plot')\n",
    "    \n",
    "def regression_diagnostic_plots(table, x, y):\n",
    "    scatter_fit(table, x, y)\n",
    "    residual_plot(table, x, y)"
   ]
  },
  {
   "cell_type": "code",
   "execution_count": 35,
   "id": "d9592ab5",
   "metadata": {},
   "outputs": [
    {
     "data": {
      "image/png": "[encoded data removed]",
      "text/plain": [
       "<Figure size 360x360 with 1 Axes>"
      ]
     },
     "metadata": {},
     "output_type": "display_data"
    },
    {
     "data": {
      "image/png": "[encoded data removed]",
      "text/plain": [
       "<Figure size 360x360 with 1 Axes>"
      ]
     },
     "metadata": {},
     "output_type": "display_data"
    }
   ],
   "source": [
    "regression_diagnostic_plots(table, \"Education\", \"Mortality\")"
   ]
  },
  {
   "cell_type": "code",
   "execution_count": 36,
   "id": "24bf0baa",
   "metadata": {},
   "outputs": [
    {
     "data": {
      "text/html": [
       "<table border=\"1\" class=\"dataframe\">\n",
       "    <thead>\n",
       "        <tr>\n",
       "            <th>Mortality</th> <th>Education</th> <th>Fitted</th>\n",
       "        </tr>\n",
       "    </thead>\n",
       "    <tbody>\n",
       "        <tr>\n",
       "            <td>921.87   </td> <td>11.4     </td> <td>924.168</td>\n",
       "        </tr>\n",
       "        <tr>\n",
       "            <td>997.87   </td> <td>11       </td> <td>944.136</td>\n",
       "        </tr>\n",
       "        <tr>\n",
       "            <td>962.35   </td> <td>9.8      </td> <td>1004.04</td>\n",
       "        </tr>\n",
       "        <tr>\n",
       "            <td>982.29   </td> <td>11.1     </td> <td>939.144</td>\n",
       "        </tr>\n",
       "        <tr>\n",
       "            <td>1071.29  </td> <td>9.6      </td> <td>1014.02</td>\n",
       "        </tr>\n",
       "        <tr>\n",
       "            <td>1030.38  </td> <td>10.2     </td> <td>984.072</td>\n",
       "        </tr>\n",
       "        <tr>\n",
       "            <td>934.7    </td> <td>12.1     </td> <td>889.224</td>\n",
       "        </tr>\n",
       "        <tr>\n",
       "            <td>899.53   </td> <td>10.6     </td> <td>964.104</td>\n",
       "        </tr>\n",
       "        <tr>\n",
       "            <td>1001.9   </td> <td>10.5     </td> <td>969.096</td>\n",
       "        </tr>\n",
       "        <tr>\n",
       "            <td>912.35   </td> <td>10.7     </td> <td>959.112</td>\n",
       "        </tr>\n",
       "    </tbody>\n",
       "</table>\n",
       "<p>... (48 rows omitted)</p>"
      ],
      "text/plain": [
       "Mortality | Education | Fitted\n",
       "921.87    | 11.4      | 924.168\n",
       "997.87    | 11        | 944.136\n",
       "962.35    | 9.8       | 1004.04\n",
       "982.29    | 11.1      | 939.144\n",
       "1071.29   | 9.6       | 1014.02\n",
       "1030.38   | 10.2      | 984.072\n",
       "934.7     | 12.1      | 889.224\n",
       "899.53    | 10.6      | 964.104\n",
       "1001.9    | 10.5      | 969.096\n",
       "912.35    | 10.7      | 959.112\n",
       "... (48 rows omitted)"
      ]
     },
     "execution_count": 36,
     "metadata": {},
     "output_type": "execute_result"
    }
   ],
   "source": [
    "tbl_fit = table.with_column(\"Fitted\", fit(table, \"Education\", \"Mortality\"))\n",
    "tbl_fit"
   ]
  },
  {
   "cell_type": "code",
   "execution_count": 37,
   "id": "138bc520",
   "metadata": {},
   "outputs": [
    {
     "data": {
      "text/html": [
       "<table border=\"1\" class=\"dataframe\">\n",
       "    <thead>\n",
       "        <tr>\n",
       "            <th>Mortality</th> <th>Education</th> <th>Fitted</th> <th>Residuals</th>\n",
       "        </tr>\n",
       "    </thead>\n",
       "    <tbody>\n",
       "        <tr>\n",
       "            <td>921.87   </td> <td>11.4     </td> <td>924.168</td> <td>-2.2981  </td>\n",
       "        </tr>\n",
       "        <tr>\n",
       "            <td>997.87   </td> <td>11       </td> <td>944.136</td> <td>53.7338  </td>\n",
       "        </tr>\n",
       "        <tr>\n",
       "            <td>962.35   </td> <td>9.8      </td> <td>1004.04</td> <td>-41.6904 </td>\n",
       "        </tr>\n",
       "        <tr>\n",
       "            <td>982.29   </td> <td>11.1     </td> <td>939.144</td> <td>43.1458  </td>\n",
       "        </tr>\n",
       "        <tr>\n",
       "            <td>1071.29  </td> <td>9.6      </td> <td>1014.02</td> <td>57.2656  </td>\n",
       "        </tr>\n",
       "        <tr>\n",
       "            <td>1030.38  </td> <td>10.2     </td> <td>984.072</td> <td>46.3077  </td>\n",
       "        </tr>\n",
       "        <tr>\n",
       "            <td>934.7    </td> <td>12.1     </td> <td>889.224</td> <td>45.476   </td>\n",
       "        </tr>\n",
       "        <tr>\n",
       "            <td>899.53   </td> <td>10.6     </td> <td>964.104</td> <td>-64.5743 </td>\n",
       "        </tr>\n",
       "        <tr>\n",
       "            <td>1001.9   </td> <td>10.5     </td> <td>969.096</td> <td>32.8037  </td>\n",
       "        </tr>\n",
       "        <tr>\n",
       "            <td>912.35   </td> <td>10.7     </td> <td>959.112</td> <td>-46.7622 </td>\n",
       "        </tr>\n",
       "    </tbody>\n",
       "</table>\n",
       "<p>... (48 rows omitted)</p>"
      ],
      "text/plain": [
       "Mortality | Education | Fitted  | Residuals\n",
       "921.87    | 11.4      | 924.168 | -2.2981\n",
       "997.87    | 11        | 944.136 | 53.7338\n",
       "962.35    | 9.8       | 1004.04 | -41.6904\n",
       "982.29    | 11.1      | 939.144 | 43.1458\n",
       "1071.29   | 9.6       | 1014.02 | 57.2656\n",
       "1030.38   | 10.2      | 984.072 | 46.3077\n",
       "934.7     | 12.1      | 889.224 | 45.476\n",
       "899.53    | 10.6      | 964.104 | -64.5743\n",
       "1001.9    | 10.5      | 969.096 | 32.8037\n",
       "912.35    | 10.7      | 959.112 | -46.7622\n",
       "... (48 rows omitted)"
      ]
     },
     "execution_count": 37,
     "metadata": {},
     "output_type": "execute_result"
    }
   ],
   "source": [
    "tbl_residual = tbl_fit.with_column(\"Residuals\", tbl_fit.column(\"Mortality\") - tbl_fit.column(\"Fitted\"))\n",
    "tbl_residual"
   ]
  },
  {
   "cell_type": "code",
   "execution_count": 46,
   "id": "f54bc215",
   "metadata": {},
   "outputs": [
    {
     "data": {
      "image/png": "[encoded data removed]",
      "text/plain": [
       "<Figure size 432x288 with 1 Axes>"
      ]
     },
     "metadata": {},
     "output_type": "display_data"
    }
   ],
   "source": [
    "tbl_residual.hist(\"Residuals\", bins = 6)"
   ]
  },
  {
   "cell_type": "code",
   "execution_count": 55,
   "id": "28209f95",
   "metadata": {},
   "outputs": [
    {
     "data": {
      "text/plain": [
       "47.500540238666446"
      ]
     },
     "execution_count": 55,
     "metadata": {},
     "output_type": "execute_result"
    }
   ],
   "source": [
    "arr = tbl_residual.column(\"Residuals\")\n",
    "std_dev = np.sqrt((sum((arr - np.mean(arr))**2))/(len(arr)-1))\n",
    "std_dev"
   ]
  },
  {
   "cell_type": "markdown",
   "id": "254ea388",
   "metadata": {},
   "source": [
    "\n",
    "## 5. Confidence interval for the slope\n",
    "\n",
    "(Using bootstrapping on the sample) find a confidence interval for the slope, and write a sentence interpreting this confidence interval in context. \n",
    "\n",
    "Use this confidence interval to make a hypothesis test where the alternative hypothesis is that there is a non-trivial linear relationship between the variables you are looking at. (Since your data was chosen to show a linear relationship, I expect that you will reject the null hypothesis here - but you better do so for the right reasons :) )."
   ]
  },
  {
   "cell_type": "code",
   "execution_count": 39,
   "id": "5a648372",
   "metadata": {},
   "outputs": [
    {
     "data": {
      "image/png": "[encoded data removed]",
      "text/plain": [
       "<Figure size 432x288 with 1 Axes>"
      ]
     },
     "metadata": {},
     "output_type": "display_data"
    }
   ],
   "source": [
    "slopes = make_array()\n",
    "for i in np.arange(5000):\n",
    "    bootstrap_sample = table.sample()\n",
    "    bootstrap_slope = slope(bootstrap_sample, \"Education\", \"Mortality\")\n",
    "    slopes = np.append(slopes, bootstrap_slope)\n",
    "Table().with_column('Bootstrap Slopes', slopes).hist(bins=20)"
   ]
  },
  {
   "cell_type": "code",
   "execution_count": 40,
   "id": "a8744afa",
   "metadata": {},
   "outputs": [
    {
     "data": {
      "text/plain": [
       "(-67.77956631997945, -33.4378045325779)"
      ]
     },
     "execution_count": 40,
     "metadata": {},
     "output_type": "execute_result"
    }
   ],
   "source": [
    "left = percentile(2.5, slopes)\n",
    "right = percentile(97.5, slopes)\n",
    "left, right"
   ]
  },
  {
   "cell_type": "code",
   "execution_count": 41,
   "id": "5ed9bc78",
   "metadata": {},
   "outputs": [
    {
     "name": "stdout",
     "output_type": "stream",
     "text": [
      "Slope of regression line: -49.92018746186626\n",
      "Approximate 95%-confidence interval for the slope of the true line:\n",
      "-67.76910434319865 -33.25909964466427\n"
     ]
    },
    {
     "data": {
      "image/png": "[encoded data removed]",
      "text/plain": [
       "<Figure size 432x288 with 1 Axes>"
      ]
     },
     "metadata": {},
     "output_type": "display_data"
    }
   ],
   "source": [
    "def bootstrap_slope(table, x, y, repetitions):\n",
    "    \n",
    "    #For each repetition:\n",
    "    # Bootstrap the scatter, get the slope of the regression line, \n",
    "    #augment the list of generated slopes\n",
    "    slopes = make_array()\n",
    "    for i in np.arange(repetitions):\n",
    "        bootstrap_sample = table.sample()\n",
    "        bootstrap_slope = slope(bootstrap_sample, x, y)\n",
    "        slopes = np.append(slopes, bootstrap_slope)\n",
    "    \n",
    "    # Find the endpoints of the 95% confidence interval for the true slope\n",
    "    left = percentile(2.5, slopes)\n",
    "    right = percentile(97.5, slopes)\n",
    "    \n",
    "    # Slope of the regression line from the original sample\n",
    "    observed_slope = slope(table, x, y)\n",
    "    \n",
    "    # Display results\n",
    "    Table().with_column(\"Bootstrap Slopes\", slopes).hist(bins=20)\n",
    "    plots.plot(make_array(left, right), make_array(0, 0), color='yellow', lw=8);\n",
    "    print(\"Slope of regression line:\", observed_slope)\n",
    "    print(\"Approximate 95%-confidence interval for the slope of the true line:\")\n",
    "    print(left, right)\n",
    "    \n",
    "bootstrap_slope(table, \"Education\", \"Mortality\", 5000)"
   ]
  },
  {
   "cell_type": "markdown",
   "id": "1f6cd07b",
   "metadata": {},
   "source": [
    "## 6. Confidence interval for a prediction. \n",
    "\n",
    "Choose two $x$-values to make predictions using your linear regression model - one near the $x$-mean, and the other far from the mean (but in both cases, within the domain of the model).\n",
    "\n",
    "(Again using bootstrapping) find a 95% confidence interval for the prediction in each case, and write a sentence interpreting the interval in the context of your data, the variables and their units.\n",
    "\n",
    "How would it be different if you were to give an interval in which you would find 95% of individual $y$-values for either of these two $x$-values?"
   ]
  },
  {
   "cell_type": "code",
   "execution_count": 42,
   "id": "90bcbe05",
   "metadata": {},
   "outputs": [
    {
     "data": {
      "text/plain": [
       "-3348.999943165713"
      ]
     },
     "execution_count": 42,
     "metadata": {},
     "output_type": "execute_result"
    }
   ],
   "source": [
    "def fitted_value(table, x, y, given_x):    \n",
    "    a = slope(table, x, y)\n",
    "    b = intercept(table, x, y)\n",
    "    return a * given_x + b\n",
    "\n",
    "fitted_value(table, \"Education\", \"Mortality\", 97)"
   ]
  },
  {
   "cell_type": "code",
   "execution_count": 43,
   "id": "52142235",
   "metadata": {},
   "outputs": [],
   "source": [
    "#Boostrap prediction of variable y  at new_x\n",
    "#Data contained in table; prediction by regression of y based on x\n",
    "#repetitions = number of bootstrap replications of the original scatter plot.\n",
    "\n",
    "def bootstrap_prediction(table, x, y, new_x, repetitions):\n",
    "    \n",
    "    #For each repetition\n",
    "    #Bootstrap the scatter, \n",
    "    #get the regression prediction at new_x,\n",
    "    #augment the predictions list\n",
    "    \n",
    "    predictions = make_array()\n",
    "    for i in np.arange(repetitions):\n",
    "        bootstrap_sample = table.sample()\n",
    "        bootstrap_prediction = fitted_value(bootstrap_sample, x, y, new_x)\n",
    "        predictions = np.append(predictions, bootstrap_prediction)\n",
    "\n",
    "    # Find the ends of the approximate 95% prediction interval\n",
    "    left = percentile(2.5, predictions)\n",
    "    right = percentile(97.5, predictions)\n",
    "\n",
    "    #Prediction based on original sample\n",
    "    original = fitted_value(table, x, y, new_x)\n",
    "    \n",
    "    # Display results\n",
    "    Table().with_column(\"Prediction\", predictions).hist(bins=20)\n",
    "    plots.xlabel(\"predictions at x=\"+str(new_x))\n",
    "    plots.plot([left, right], [0, 0], color='yellow', lw=8);\n",
    "    print(\"Height of regression line at x=\" +str(new_x)+\":\", original)\n",
    "    print(\"Approximate 95%-confidence interval for height of true line:\")\n",
    "    print(left, right) "
   ]
  },
  {
   "cell_type": "code",
   "execution_count": 47,
   "id": "17c7a7f0",
   "metadata": {},
   "outputs": [
    {
     "name": "stdout",
     "output_type": "stream",
     "text": [
      "Height of regression line at x=10.5: 969.0962722857187\n",
      "Approximate 95%-confidence interval for height of true line:\n",
      "954.2768003366948 985.5344053102483\n"
     ]
    },
    {
     "data": {
      "image/png": "[encoded data removed]",
      "text/plain": [
       "<Figure size 432x288 with 1 Axes>"
      ]
     },
     "metadata": {},
     "output_type": "display_data"
    }
   ],
   "source": [
    "bootstrap_prediction(table, \"Education\", \"Mortality\", 10.5, 5000)"
   ]
  },
  {
   "cell_type": "code",
   "execution_count": 48,
   "id": "e809f92f",
   "metadata": {},
   "outputs": [
    {
     "name": "stdout",
     "output_type": "stream",
     "text": [
      "Height of regression line at x=8: 1093.8967409403845\n",
      "Approximate 95%-confidence interval for height of true line:\n",
      "1041.7361401493395 1150.301494946592\n"
     ]
    },
    {
     "data": {
      "image/png": "[encoded data removed]",
      "text/plain": [
       "<Figure size 432x288 with 1 Axes>"
      ]
     },
     "metadata": {},
     "output_type": "display_data"
    }
   ],
   "source": [
    "bootstrap_prediction(table, \"Education\", \"Mortality\", 8, 5000)"
   ]
  },
  {
   "cell_type": "markdown",
   "id": "9cc8eb49",
   "metadata": {},
   "source": [
    "## 7. Conclusions\n",
    "\n",
    "Write a short paragraph describing what your analysis of the data found. "
   ]
  },
  {
   "cell_type": "markdown",
   "id": "9e71a29a",
   "metadata": {},
   "source": [
    "after this analysis we can clearly see that there is a link between education rate and mortality rates in the US"
   ]
  },
  {
   "cell_type": "code",
   "execution_count": null,
   "id": "3530b7a6",
   "metadata": {},
   "outputs": [],
   "source": []
  }
 ],
 "metadata": {
  "kernelspec": {
   "display_name": "Python 3 (ipykernel)",
   "language": "python",
   "name": "python3"
  },
  "language_info": {
   "codemirror_mode": {
    "name": "ipython",
    "version": 3
   },
   "file_extension": ".py",
   "mimetype": "text/x-python",
   "name": "python",
   "nbconvert_exporter": "python",
   "pygments_lexer": "ipython3",
   "version": "3.7.8"
  }
 },
 "nbformat": 4,
 "nbformat_minor": 5
}
